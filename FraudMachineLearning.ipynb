{
  "nbformat": 4,
  "nbformat_minor": 0,
  "metadata": {
    "colab": {
      "name": "FraudMachineLearning.ipynb",
      "provenance": []
    },
    "kernelspec": {
      "name": "python3",
      "display_name": "Python 3"
    },
    "language_info": {
      "name": "python"
    }
  },
  "cells": [
    {
      "cell_type": "markdown",
      "metadata": {
        "id": "8Cm4gkNxsLyu"
      },
      "source": [
        "#### FraudMachineLearning"
      ]
    },
    {
      "cell_type": "code",
      "metadata": {
        "id": "VwnVt-LepVZz"
      },
      "source": [
        "# importar os pacotes necessários\n",
        "import pandas as pd\n",
        "import numpy as np\n",
        "import seaborn as sns\n",
        "import matplotlib.pyplot as plt"
      ],
      "execution_count": null,
      "outputs": []
    },
    {
      "cell_type": "code",
      "metadata": {
        "id": "ypMM6tgzpilF"
      },
      "source": [
        "file_path = \"https://media.githubusercontent.com/media/lmattos1603/TCC/main/dataset.csv\"\n",
        "\n",
        "# importar os dados para um dataframe\n",
        "\n",
        "df = pd.read_csv(file_path)\n"
      ],
      "execution_count": null,
      "outputs": []
    },
    {
      "cell_type": "code",
      "metadata": {
        "id": "4VQLz9YEpkzQ"
      },
      "source": [
        "#observar as 5 primeiras entradas do nosso dataset\n",
        "df.head()"
      ],
      "execution_count": null,
      "outputs": []
    },
    {
      "cell_type": "code",
      "metadata": {
        "id": "zKmJfTkFpqoc"
      },
      "source": [
        "#observar o resumo estatístico do dataset\n",
        "df.describe()"
      ],
      "execution_count": null,
      "outputs": []
    },
    {
      "cell_type": "code",
      "metadata": {
        "id": "vlAXtChUpusT"
      },
      "source": [
        "# ordenar em ordem decrescente as variáveis por seus valores ausentes\n",
        "(df.isnull().sum() / df.shape[0]).sort_values(ascending=False)"
      ],
      "execution_count": null,
      "outputs": []
    },
    {
      "cell_type": "code",
      "metadata": {
        "id": "7d-r0jLDpxpr"
      },
      "source": [
        "# plotar o histograma das variáveis numéricas\n",
        "df.hist(bins = 5, figsize=(15,10));"
      ],
      "execution_count": null,
      "outputs": []
    },
    {
      "cell_type": "code",
      "metadata": {
        "id": "JG3JDtMNp0J3"
      },
      "source": [
        "# balanceamento das classes\n",
        "print(df.Class.value_counts())\n",
        "print(\"\\nFraudes representam {:.2f}% do dataset.\\n\".format((df[df.Class == 1].shape[0] / df.shape[0]) * 100))\n",
        "\n",
        "# plotar gráfico de barras para as Classes\n",
        "fig, ax = plt.subplots()\n",
        "sns.countplot('Class', data=df, ax=ax)\n",
        "ax.set_title('Distribuição das Classes\\n (0: Normal || 1: Fraude)', fontsize=14)\n",
        "plt.plot()"
      ],
      "execution_count": null,
      "outputs": []
    },
    {
      "cell_type": "markdown",
      "metadata": {
        "id": "J-3PBcCDqG70"
      },
      "source": [
        "#### Distribuição no tempo"
      ]
    },
    {
      "cell_type": "code",
      "metadata": {
        "id": "g9HuwUIBp4Mz"
      },
      "source": [
        "fig, ax = plt.subplots(nrows=2, ncols=1, figsize=(12,6))\n",
        "\n",
        "num_bins = 40\n",
        "\n",
        "ax[0].hist(df.Time[df.Class == 0], bins=num_bins)\n",
        "ax[0].set_title('Normal')\n",
        "\n",
        "ax[1].hist(df.Time[df.Class == 1], bins=num_bins)\n",
        "ax[1].set_title('Fraude')\n",
        "\n",
        "plt.xlabel('Tempo (segundos)')\n",
        "plt.ylabel('Transações')\n",
        "plt.tight_layout()"
      ],
      "execution_count": null,
      "outputs": []
    },
    {
      "cell_type": "code",
      "metadata": {
        "id": "rvhquAKUp7Iv"
      },
      "source": [
        "#instanciando o objeto\n",
        "fig, ax = plt.subplots(figsize = (6,12))\n",
        "#gerando dados para o gráfico\n",
        "sns.boxplot(df.Class, df.Amount, showmeans=True, ax=ax)\n",
        "plt.ylim((-20,400))\n",
        "plt.xticks([0,1], ['Normal', 'Fraude'])\n",
        "ax.set_title('Distribuição das Classes\\n (Normal || Fraude)')\n",
        "#plotando o gráfico\n",
        "plt.tight_layout()"
      ],
      "execution_count": null,
      "outputs": []
    },
    {
      "cell_type": "markdown",
      "metadata": {
        "id": "mOppDu5RqLt3"
      },
      "source": [
        "#### Densidade de distribuição"
      ]
    },
    {
      "cell_type": "code",
      "metadata": {
        "id": "5T98qOSWp-DH"
      },
      "source": [
        "column_names = df.drop(['Class', 'Amount', 'Time'], axis=1).columns\n",
        "num_plots = len(column_names)\n",
        "df_class_0 = df[df.Class == 0]\n",
        "df_class_1 = df[df.Class == 1]\n",
        "\n",
        "fig, ax = plt.subplots(nrows=7, ncols=4, figsize=(18,18))\n",
        "fig.subplots_adjust(hspace=1, wspace=1)\n",
        "\n",
        "idx = 0\n",
        "for col in column_names:\n",
        "    idx += 1\n",
        "    plt.subplot(7, 4, idx)\n",
        "    sns.kdeplot(df_class_0[col], label=\"Class 0\", shade=True)\n",
        "    sns.kdeplot(df_class_1[col], label=\"Class 1\", shade=True)\n",
        "    plt.title(col, fontsize=10)\n",
        "plt.tight_layout()"
      ],
      "execution_count": null,
      "outputs": []
    },
    {
      "cell_type": "markdown",
      "metadata": {
        "id": "FrqrnxHlqQnT"
      },
      "source": [
        "## Preparação dos Dados"
      ]
    },
    {
      "cell_type": "code",
      "metadata": {
        "id": "iYETyhyNqMiP"
      },
      "source": [
        "#criar um novo dataset por precaução\n",
        "df_clean = df.copy()"
      ],
      "execution_count": null,
      "outputs": []
    },
    {
      "cell_type": "markdown",
      "metadata": {
        "id": "v5LvKSjCqT97"
      },
      "source": [
        "Importar as bibliotecas necessárias"
      ]
    },
    {
      "cell_type": "code",
      "metadata": {
        "id": "jPlVzfp5qUuL"
      },
      "source": [
        "from sklearn.model_selection import train_test_split\n",
        "from sklearn.preprocessing import StandardScaler\n",
        "from sklearn.metrics import classification_report\n",
        "from sklearn.metrics import confusion_matrix\n",
        "from sklearn.metrics import roc_curve, roc_auc_score, accuracy_score"
      ],
      "execution_count": null,
      "outputs": []
    },
    {
      "cell_type": "markdown",
      "metadata": {
        "id": "KSUfmpM3qVd3"
      },
      "source": [
        "Padrozinar as variáveis `Time` e `Amount`"
      ]
    },
    {
      "cell_type": "code",
      "metadata": {
        "id": "Wo6PZjMDqV32"
      },
      "source": [
        "std_scaler = StandardScaler()\n",
        "df_clean['std_time'] = std_scaler.fit_transform(df_clean['Time'].values.reshape(-1,1))\n",
        "df_clean['std_amount'] = std_scaler.fit_transform(df_clean['Amount'].values.reshape(-1, 1))\n",
        "\n",
        "df_clean.drop(['Amount', 'Time'], axis=1, inplace=True) "
      ],
      "execution_count": null,
      "outputs": []
    },
    {
      "cell_type": "code",
      "metadata": {
        "id": "2_vbRu_Dqi2l"
      },
      "source": [
        "df_clean.head()"
      ],
      "execution_count": null,
      "outputs": []
    },
    {
      "cell_type": "markdown",
      "metadata": {
        "id": "zsmozhxbqxbO"
      },
      "source": [
        "### Dividindo o dataset (treino e teste)"
      ]
    },
    {
      "cell_type": "code",
      "metadata": {
        "id": "0NobblrjqrwW"
      },
      "source": [
        "#separando as variáveis\n",
        "X = df_clean.drop('Class', axis=1)\n",
        "y = df_clean['Class']\n",
        "\n",
        "#dividindo o dataset\n",
        "X_train, X_test, y_train, y_test = train_test_split(X,y, random_state=42)"
      ],
      "execution_count": null,
      "outputs": []
    },
    {
      "cell_type": "markdown",
      "metadata": {
        "id": "ji7Ryp0mquvk"
      },
      "source": [
        "### Balanceando o conjunto de dados"
      ]
    },
    {
      "cell_type": "code",
      "metadata": {
        "id": "-Imr4be9q0_2"
      },
      "source": [
        "from imblearn.under_sampling import RandomUnderSampler\n",
        "\n",
        "rand = RandomUnderSampler()\n",
        "X_rand, y_rand = rand.fit_sample(X_train, y_train)\n",
        "\n",
        "sns.countplot(y_rand);\n"
      ],
      "execution_count": null,
      "outputs": []
    },
    {
      "cell_type": "code",
      "metadata": {
        "id": "R1RDKL-Zq4UZ"
      },
      "source": [
        "corr = X_train.corr()\n",
        "corr_rand = pd.DataFrame(X_rand).corr()\n",
        "\n",
        "fig, ax = plt.subplots(nrows=1, ncols=2, figsize = (12,6))\n",
        "fig.suptitle ('Matriz de Correlação para o Dataset')\n",
        "\n",
        "sns.heatmap(corr, xticklabels=corr.columns, yticklabels=corr.columns,\n",
        "            linewidths=.3, cmap=\"RdBu\", ax=ax[0])\n",
        "ax[0].set_title('Desbalanceado')\n",
        "\n",
        "sns.heatmap(corr_rand, xticklabels=corr_rand.columns, yticklabels=corr_rand.columns,\n",
        "            linewidths=.3, cmap=\"RdBu\", ax=ax[1])\n",
        "ax[1].set_title('Balanceado')\n",
        "#plt.savefig('CC-Fraud-correlaction.jpg')\n",
        "plt.show;"
      ],
      "execution_count": null,
      "outputs": []
    },
    {
      "cell_type": "markdown",
      "metadata": {
        "id": "GUwYn_rNrBMZ"
      },
      "source": [
        "## Modelo de Machine Learning\n",
        "\n",
        "### Sklearn:"
      ]
    },
    {
      "cell_type": "code",
      "metadata": {
        "id": "E2ZSIEqIq86B"
      },
      "source": [
        "#1. Escolher o modelo\n",
        "from sklearn.linear_model import LogisticRegression\n",
        "\n",
        "#2. Instanciar o modelo\n",
        "np.random.seed(2)\n",
        "model_lr = LogisticRegression()\n",
        "\n",
        "#3. Fit do modelo\n",
        "model_lr.fit(X_rand, y_rand)\n",
        "\n",
        "#5. Fazer previsões em cima dos novos dados\n",
        "y_pred_lr = model_lr.predict(X_test)\n",
        "y_prob_lr = model_lr.predict_proba(X_test)"
      ],
      "execution_count": null,
      "outputs": []
    },
    {
      "cell_type": "markdown",
      "metadata": {
        "id": "VBr4n6tVrMw1"
      },
      "source": [
        "### Árvore de Decisão:"
      ]
    },
    {
      "cell_type": "code",
      "metadata": {
        "id": "pbHMgJ54rOJh"
      },
      "source": [
        "#1. Escolha do modelo\n",
        "from sklearn.tree import DecisionTreeClassifier\n",
        "\n",
        "#2. Instanciar o modelo e escolher os hyperparametros\n",
        "model_tree = DecisionTreeClassifier(max_depth=4, criterion=\"entropy\")\n",
        "\n",
        "#3. Fit do modelo\n",
        "model_tree.fit(X_rand, y_rand)\n",
        "\n",
        "#Fazer previsões em cima dos novos dados\n",
        "y_pred_tree = model_tree.predict(X_test)"
      ],
      "execution_count": null,
      "outputs": []
    },
    {
      "cell_type": "code",
      "metadata": {
        "id": "DiyoihS0rXhY"
      },
      "source": [
        "from sklearn import tree\n",
        "plt.figure(figsize=(18,8))#ajustar o tamanho da figura\n",
        "tree.plot_tree(model_tree); #utilizando a própria biblioteca sklearn podemos plotar a árvore.\n",
        "#plt.savefig('tree.jpg')\n"
      ],
      "execution_count": null,
      "outputs": []
    },
    {
      "cell_type": "markdown",
      "metadata": {
        "id": "cCP8sZi8rc6O"
      },
      "source": [
        "### Avaliar o desempenho utilizando Sklearn\n",
        "\n",
        "#### Matriz de Confusão Analítica"
      ]
    },
    {
      "cell_type": "code",
      "metadata": {
        "id": "b9ZPeVwzrhGo"
      },
      "source": [
        "print(\"Utilizando Regressão Logística: \\n\" )\n",
        "print(classification_report(y_test, y_pred_lr))\n",
        "\n",
        "print(\"Utilizando Árvore de Decisão: \\n\")\n",
        "print(classification_report(y_test, y_pred_tree))"
      ],
      "execution_count": null,
      "outputs": []
    },
    {
      "cell_type": "markdown",
      "metadata": {
        "id": "wxS3IxDZrllx"
      },
      "source": [
        "#### Matriz de Confusão Gráfica"
      ]
    },
    {
      "cell_type": "code",
      "metadata": {
        "id": "BUA5FjSTrmYI"
      },
      "source": [
        "confusion_matrix_lr = confusion_matrix(y_test, y_pred_lr) #gerar matriz de confusão para regressão logística\n",
        "confusion_matrix_tree = confusion_matrix(y_test, y_pred_tree)  #gerar matriz de confusão para árovre de decisão\n",
        "\n",
        "fig, (ax,ax2) = plt.subplots(ncols=2, figsize=(12,6))\n",
        "fig.suptitle('Matriz de Confusão')\n",
        "\n",
        "sns.heatmap(confusion_matrix_lr, ax=ax, annot=True, cmap=plt.cm.copper)\n",
        "ax.set_title('Regressão Logísitca',fontsize='medium')\n",
        "ax.set_ylabel = ('Verdadeiros')\n",
        "ax.set_xlabel = ('Positivos')\n",
        "\n",
        "sns.heatmap(confusion_matrix_tree, ax=ax2, annot=True, cmap=plt.cm.copper)\n",
        "ax2.set_title('Árvore de Decisão',fontsize='medium')\n",
        "ax2.set_ylabel = ('Verdadeiros')\n",
        "ax2.set_xlabel = ('Positivos')\n",
        "#plt.savefig('CC-Fraud-Confusion.jpg')\n",
        "plt.show(fig)"
      ],
      "execution_count": null,
      "outputs": []
    },
    {
      "cell_type": "markdown",
      "metadata": {
        "id": "fwjGSODkrqpY"
      },
      "source": [
        "#### AUC ROC"
      ]
    },
    {
      "cell_type": "code",
      "metadata": {
        "id": "osIXg5ZdrryQ"
      },
      "source": [
        "# imprimir a acurácia do modelo\n",
        "print(\"Acurácia utilizando regressão logística: {:.4f}\".format(accuracy_score(y_test, y_pred_lr)))\n",
        "print(\"Acurácia utilizando árvore de decisão: {:.4f}\\n\".format(accuracy_score(y_test, y_pred_tree)))\n",
        "\n",
        "# imprimir a área sob da curva\n",
        "print(\"\\nAUC ROC utilizando regressão logística: {:.4f}\".format(roc_auc_score(y_test, y_pred_lr)))\n",
        "print(\"AUC ROC utilizando árvore de decisão: {:.4f}\\n\".format(roc_auc_score(y_test, y_pred_tree)))"
      ],
      "execution_count": null,
      "outputs": []
    },
    {
      "cell_type": "markdown",
      "metadata": {
        "id": "BErqPOLsrvqQ"
      },
      "source": [
        "#### Construindo o Protótipo"
      ]
    },
    {
      "cell_type": "code",
      "metadata": {
        "id": "rrPaL-sMr55_"
      },
      "source": [
        "import pickle"
      ],
      "execution_count": null,
      "outputs": []
    },
    {
      "cell_type": "code",
      "metadata": {
        "id": "FRrcahRTr9RX"
      },
      "source": [
        "!pip install pyngrok\n",
        "!pip install streamlit"
      ],
      "execution_count": null,
      "outputs": []
    },
    {
      "cell_type": "code",
      "metadata": {
        "id": "hPCMsMtpsAYn"
      },
      "source": [
        "arquivo = open(\"dump.pkl\", \"wb\")\n",
        "pickle.dump(model_lr, arquivo)\n",
        "arquivo.close()"
      ],
      "execution_count": null,
      "outputs": []
    },
    {
      "cell_type": "code",
      "metadata": {
        "id": "kzy3LnCCsCSa"
      },
      "source": [
        "!streamlit run App.py &>dev>null&"
      ],
      "execution_count": null,
      "outputs": []
    },
    {
      "cell_type": "code",
      "metadata": {
        "id": "4q_8CXyesC6e"
      },
      "source": [
        "from pyngrok import ngrok\n",
        "url = ngrok.connect(8501)\n",
        "url"
      ],
      "execution_count": null,
      "outputs": []
    },
    {
      "cell_type": "code",
      "metadata": {
        "id": "Ffy6UFz6sG_2"
      },
      "source": [
        "ngrok.kill()"
      ],
      "execution_count": null,
      "outputs": []
    }
  ]
}